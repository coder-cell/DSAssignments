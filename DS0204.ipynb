{
    "cells": [
        {
            "metadata": {
                "collapsed": true
            },
            "cell_type": "markdown",
            "source": "# My Jupyter Notebook on IBM Watson Studio"
        },
        {
            "metadata": {},
            "cell_type": "markdown",
            "source": "Name:  **Mani Shankar** <br>\nOccupation:  Machine Learning Engineer"
        },
        {
            "metadata": {},
            "cell_type": "markdown",
            "source": "*I am interested in datascience because I like learn and perform machine learning on the data to develop for image processing in automotive sector.*"
        },
        {
            "metadata": {},
            "cell_type": "markdown",
            "source": "### Add two numbers"
        },
        {
            "metadata": {},
            "cell_type": "code",
            "source": "print(5 + 5);",
            "execution_count": 3,
            "outputs": [
                {
                    "output_type": "stream",
                    "text": "10\n",
                    "name": "stdout"
                }
            ]
        },
        {
            "metadata": {},
            "cell_type": "markdown",
            "source": "Steps to add 2 numbers:\n1. Initialize 2 ***variables***.\n2. Get input to 2 variables.\n3. Perform `variable1 + variable2`\n4. Print the sum of 2 variables.\nNote:  Try [Youtube](https://www.youtube.com/watch?v=3WZoQZMC4Xw) to add 2 numbers :) ."
        },
        {
            "metadata": {},
            "cell_type": "code",
            "source": "",
            "execution_count": null,
            "outputs": []
        }
    ],
    "metadata": {
        "kernelspec": {
            "name": "python3",
            "display_name": "Python 3.9",
            "language": "python"
        },
        "language_info": {
            "name": "python",
            "version": "3.9.12",
            "mimetype": "text/x-python",
            "codemirror_mode": {
                "name": "ipython",
                "version": 3
            },
            "pygments_lexer": "ipython3",
            "nbconvert_exporter": "python",
            "file_extension": ".py"
        },
        "celltoolbar": "Raw Cell Format"
    },
    "nbformat": 4,
    "nbformat_minor": 1
}